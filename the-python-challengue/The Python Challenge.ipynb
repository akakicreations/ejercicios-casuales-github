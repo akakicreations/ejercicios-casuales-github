{
 "cells": [
  {
   "cell_type": "markdown",
   "metadata": {},
   "source": [
    "## Ejercicio 1"
   ]
  },
  {
   "cell_type": "code",
   "execution_count": null,
   "metadata": {},
   "outputs": [],
   "source": [
    "http://www.pythonchallenge.com"
   ]
  },
  {
   "cell_type": "code",
   "execution_count": 1,
   "metadata": {},
   "outputs": [
    {
     "name": "stdout",
     "output_type": "stream",
     "text": [
      "274877906944\n"
     ]
    }
   ],
   "source": [
    "calculo = 2**38\n",
    "print(calculo)"
   ]
  },
  {
   "cell_type": "markdown",
   "metadata": {},
   "source": [
    "## Ejercicio 2"
   ]
  },
  {
   "cell_type": "code",
   "execution_count": null,
   "metadata": {},
   "outputs": [],
   "source": [
    "http://www.pythonchallenge.com/pc/def/map.html"
   ]
  },
  {
   "cell_type": "code",
   "execution_count": 10,
   "metadata": {
    "scrolled": true
   },
   "outputs": [
    {
     "name": "stdout",
     "output_type": "stream",
     "text": [
      "The string before translating is : g fmnc wms bgblr rpylqjyrc gr zw fylb.rfyrq ufyr amknsrcpq ypc dmp. bmgle gr gl zw fylb gq glcddgagclr ylb rfyr q ufw rfgq rcvr gq qm jmle. sqgle qrpgle.kyicrpylq() gq pcamkkclbcb. lmu ynnjw ml rfc spj.\n",
      "The string after translating is : ihopeyoudidnttranslateitbyhand.thatswhatcomputersarefor.doingitinbyhandisinefficientandthatswhythistextissolong.usingstring.maqetrans()isrecommended.nowapplyontheurl.\n",
      "The string after translating is : .lruehtnoylppawon.dednemmocersi)(snarteqam.gnirtsgnisu.gnolossitxetsihtyhwstahtdnatneiciffenisidnahybnitigniod.roferasretupmoctahwstaht.dnahybtietalsnarttndiduoyepohi\n"
     ]
    }
   ],
   "source": [
    "frase = 'g fmnc wms bgblr rpylqjyrc gr zw fylb.rfyrq ufyr amknsrcpq ypc dmp. bmgle gr gl zw fylb gq glcddgagclr ylb rfyr q ufw rfgq rcvr gq qm jmle. sqgle qrpgle.kyicrpylq() gq pcamkkclbcb. lmu ynnjw ml rfc spj.'\n",
    "\n",
    "# specify to translate chars \n",
    "str1 = \"abcdefghijklmnopqrstuvwxyz\"\n",
    "  \n",
    "# specify to to replace with \n",
    "str2 = \"cdefghijqlmnopqrstuvwxykab\"\n",
    "  \n",
    "# delete chars \n",
    "str3 = \" \"    \n",
    "    \n",
    "# using maketrans() to  \n",
    "# construct translate \n",
    "# table \n",
    "table = frase.maketrans(str1, str2, str3) \n",
    "  \n",
    "# Printing original string  \n",
    "print (\"The string before translating is : \", end =\"\") \n",
    "print (frase) \n",
    "  \n",
    "# using translate() to make translations. \n",
    "print (\"The string after translating is : \", end =\"\") \n",
    "print (frase.translate(table))\n",
    "\n",
    "#Ayuda: https://www.geeksforgeeks.org/python-maketrans-translate-functions/\n",
    "\n",
    "# Invertir la URL\n",
    "def reversed_string(a_string):\n",
    "    return a_string[::-1]\n",
    "dada_la_vuelta = reversed_string(frase.translate(table))\n",
    "print (\"The string after translating is : \", end =\"\") \n",
    "print (dada_la_vuelta)"
   ]
  },
  {
   "cell_type": "code",
   "execution_count": 11,
   "metadata": {
    "scrolled": true
   },
   "outputs": [
    {
     "name": "stdout",
     "output_type": "stream",
     "text": [
      "The string before translating is : http://www.pythonchallenge.com/pc/def/map.html\n",
      "The string after translating is : jvvr://yyy.ravjqpejcnngpig.eqo/re/fgh/ocr.jvon\n"
     ]
    }
   ],
   "source": [
    "frase = 'http://www.pythonchallenge.com/pc/def/map.html'\n",
    "\n",
    "# specify to translate chars \n",
    "str1 = \"abcdefghijklmnopqrstuvwxyz\"\n",
    "  \n",
    "# specify to to replace with \n",
    "str2 = \"cdefghijqlmnopqrstuvwxykab\"\n",
    "  \n",
    "# delete chars \n",
    "str3 = \" \"    \n",
    "    \n",
    "# using maketrans() to  \n",
    "# construct translate \n",
    "# table \n",
    "table = frase.maketrans(str1, str2, str3)\n",
    "  \n",
    "# Printing original string  \n",
    "print (\"The string before translating is : \", end =\"\") \n",
    "print (frase) \n",
    "  \n",
    "# using translate() to make translations. \n",
    "print (\"The string after translating is : \", end =\"\") \n",
    "print (frase.translate(table))\n",
    "\n",
    "#Solución: cambiar sólo \"ocr\"-> http://www.pythonchallenge.com/pc/def/ocr.html"
   ]
  },
  {
   "cell_type": "markdown",
   "metadata": {},
   "source": [
    "## Ejercicio 3"
   ]
  },
  {
   "cell_type": "code",
   "execution_count": null,
   "metadata": {},
   "outputs": [],
   "source": [
    "http://www.pythonchallenge.com/pc/def/ocr.html"
   ]
  },
  {
   "cell_type": "code",
   "execution_count": null,
   "metadata": {},
   "outputs": [],
   "source": [
    "from collections import Counter\n",
    "\n",
    "c = Counter(texto)\n",
    "print(c.most_common())"
   ]
  },
  {
   "cell_type": "code",
   "execution_count": 97,
   "metadata": {},
   "outputs": [
    {
     "name": "stdout",
     "output_type": "stream",
     "text": [
      "98764\n",
      "\n",
      "[(')', 6186), ('@', 6157), ('(', 6154), (']', 6152), ('#', 6115), ('_', 6112), ('[', 6108), ('}', 6105), ('%', 6104), ('!', 6079), ('+', 6066), ('$', 6046), ('{', 6046), ('&', 6043), ('*', 6034), ('^', 6030), ('\\n', 1219), ('e', 1), ('q', 1), ('u', 1), ('a', 1), ('l', 1), ('i', 1), ('t', 1), ('y', 1)]\n",
      "\n",
      "['e', 'q', 'u', 'a', 'l', 'i', 't']\n"
     ]
    }
   ],
   "source": [
    "# Texto del código fuente: find rare characters in the mess below:\n",
    "\n",
    "#Ver cuantos caracteres tiene\n",
    "texto_crudo = open('texto_challengue3.txt', 'r')\n",
    "texto = texto_crudo.read() #Importante crear una variable que lea el text\n",
    "print(len(texto))\n",
    "print('')\n",
    "\n",
    "#Contar cuántos hay de cada carácter\n",
    "from collections import Counter\n",
    "counter = Counter(texto)\n",
    "print(counter.most_common())\n",
    "print('')\n",
    "\n",
    "#Ver cuantos hay de cada tipo\n",
    "def seleccion(lista):\n",
    "    lista_seleccion = []\n",
    "    lista_vetados = \"abcdefghijklmnopqrstuv\"\n",
    "    for caracter in texto:\n",
    "        if caracter in lista_vetados:\n",
    "            lista_seleccion.append(caracter)\n",
    "    return lista_seleccion\n",
    "\n",
    "print(seleccion(texto))\n",
    "\n",
    "        "
   ]
  },
  {
   "cell_type": "markdown",
   "metadata": {},
   "source": [
    "## Ejercicio 4"
   ]
  },
  {
   "cell_type": "code",
   "execution_count": null,
   "metadata": {},
   "outputs": [],
   "source": [
    "http://www.pythonchallenge.com/pc/def/equality.html"
   ]
  },
  {
   "cell_type": "code",
   "execution_count": 208,
   "metadata": {},
   "outputs": [
    {
     "name": "stdout",
     "output_type": "stream",
     "text": [
      "Tres mayúsculas y una minúscula!!\n",
      "h\n",
      "Tres mayúsculas y una minúscula!!\n",
      "k\n",
      "Tres mayúsculas y una minúscula!!\n",
      "g\n",
      "Tres mayúsculas y una minúscula!!\n",
      "y\n",
      "Tres mayúsculas y una minúscula!!\n",
      "u\n",
      "Tres mayúsculas y una minúscula!!\n",
      "g\n",
      "Tres mayúsculas y una minúscula!!\n",
      "m\n"
     ]
    },
    {
     "data": {
      "text/plain": [
       "(6, 0)"
      ]
     },
     "execution_count": 208,
     "metadata": {},
     "output_type": "execute_result"
    }
   ],
   "source": [
    "# One small letter, surrounded by EXACTLY three big bodyguards on each of its sides.\n",
    "# Del texto sacado del código fuente buscar una palabra que esté rodeada de tres mayúsculas.\n",
    "\n",
    "texto_crudo2 = open ('texto_challengue3_ejercicio3.txt', 'r')\n",
    "texto2 = texto_crudo2.read()\n",
    "texto_prueba = \"XXXhkgyugIUXVRTFwgcjhCFJHwcjhcJHgvGHxUYTmIUH\"\n",
    "\n",
    "#Función para identificar 3 palabras en mayúsculas seguidas\n",
    "mayusculas = 'ABCDEFGHIJKLMNOPQRSTUVWXYZ'\n",
    "minusculas = 'abcdefghijklmnopqrstuvwxyz'\n",
    "\n",
    "def es_mayuscula_tres (entrada):\n",
    "    conteo_mayusculas = 0\n",
    "    conteo_minusculas = 0\n",
    "    for caracter in entrada:\n",
    "        if caracter in mayusculas:         \n",
    "            conteo_mayusculas += 1\n",
    "            conteo_minusculas = 0\n",
    "        elif caracter in minusculas:\n",
    "            conteo_minusculas += 1\n",
    "            if conteo_mayusculas == 3:\n",
    "                print ('Tres mayúsculas y una minúscula!!')\n",
    "                print (caracter)\n",
    "            elif conteo_mayusculas > 3:\n",
    "                conteo_minusculas = 0\n",
    "                conteo_mayusculas = 0\n",
    "            \n",
    "  \n",
    "    return conteo_mayusculas, conteo_minusculas\n",
    "\n",
    "\n",
    "es_mayuscula_tres (texto_prueba)\n",
    "\n"
   ]
  },
  {
   "cell_type": "code",
   "execution_count": 170,
   "metadata": {},
   "outputs": [
    {
     "name": "stdout",
     "output_type": "stream",
     "text": [
      "10\n",
      "X\n",
      "10\n",
      "9\n",
      "bien!\n",
      "X\n",
      "22\n",
      "H\n",
      "22\n",
      "21\n",
      "bien!\n",
      "H\n",
      "37\n",
      "T\n",
      "37\n",
      "36\n",
      "bien!\n",
      "T\n",
      "41\n",
      "H\n",
      "41\n",
      "40\n",
      "bien!\n",
      "H\n"
     ]
    },
    {
     "data": {
      "text/plain": [
       "3"
      ]
     },
     "execution_count": 170,
     "metadata": {},
     "output_type": "execute_result"
    }
   ],
   "source": [
    "texto_prueba = \"hkgXXyugIUXVRTFygcjhCJHgcjhcJHgvGHxUYTmIUH\"\n",
    "\n",
    "def  es_mayusculas_enumerate (entrada):\n",
    "    conteo = 0\n",
    "    indice_extra = []\n",
    "    for indice, caracter in enumerate (entrada):\n",
    "        if caracter in mayusculas:\n",
    "            conteo += 1\n",
    "            indice_extra = indice\n",
    "            indice_extra_anterior = indice_extra - 1\n",
    "            if conteo > 3:\n",
    "                print (indice_extra)\n",
    "                print (caracter)\n",
    "                print (indice)\n",
    "                print (indice_extra_anterior)\n",
    "                if indice_extra == indice_extra_anterior+1:                  \n",
    "                    print ('bien!')\n",
    "                    print (caracter)\n",
    "                else:\n",
    "                    print('wrong!')\n",
    "    \n",
    "        else:\n",
    "            conteo = 0\n",
    "    return conteo  \n",
    "    \n",
    "es_mayusculas_enumerate (texto_prueba)"
   ]
  },
  {
   "cell_type": "code",
   "execution_count": null,
   "metadata": {},
   "outputs": [],
   "source": [
    "def elementos_pares(lista):\n",
    "    lista_nueva = []\n",
    "    for indice,elem in enumerate(lista):\n",
    "        if indice % 2 == 1:\n",
    "            lista_nueva.append(elem)\n",
    "    \n",
    "    return lista_nueva"
   ]
  }
 ],
 "metadata": {
  "kernelspec": {
   "display_name": "Python 3",
   "language": "python",
   "name": "python3"
  },
  "language_info": {
   "codemirror_mode": {
    "name": "ipython",
    "version": 3
   },
   "file_extension": ".py",
   "mimetype": "text/x-python",
   "name": "python",
   "nbconvert_exporter": "python",
   "pygments_lexer": "ipython3",
   "version": "3.7.3"
  }
 },
 "nbformat": 4,
 "nbformat_minor": 2
}
