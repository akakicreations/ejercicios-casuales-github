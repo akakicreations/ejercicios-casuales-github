{
 "cells": [
  {
   "cell_type": "markdown",
   "metadata": {},
   "source": [
    "# Books Goodreader"
   ]
  },
  {
   "cell_type": "code",
   "execution_count": 1,
   "metadata": {},
   "outputs": [],
   "source": [
    "import pandas as pd\n",
    "import numpy as np\n",
    "import matplotlib.pyplot as plt"
   ]
  },
  {
   "cell_type": "code",
   "execution_count": 2,
   "metadata": {},
   "outputs": [
    {
     "name": "stdout",
     "output_type": "stream",
     "text": [
      "bookID,title,authors,average_rating,isbn,isbn13,language_code,# num_pages,ratings_count,text_reviews_count\n",
      "1,Harry Potter and the Half-Blood Prince (Harry Potter  #6),J.K. Rowling-Mary GrandPré,4.56,0439785960,9780439785969,eng,652,1944099,26249\n"
     ]
    }
   ],
   "source": [
    "! head -n 2 books-goodreader.csv"
   ]
  },
  {
   "cell_type": "code",
   "execution_count": 3,
   "metadata": {},
   "outputs": [
    {
     "name": "stdout",
     "output_type": "stream",
     "text": [
      "   13720 books-goodreader.csv\n",
      "10\n"
     ]
    }
   ],
   "source": [
    "! wc -l books-goodreader.csv #Tiene 13720 filas\n",
    "! awk -F, '{print NF; exit}' books-goodreader.csv #Para saber el número de columnas"
   ]
  },
  {
   "cell_type": "code",
   "execution_count": 4,
   "metadata": {},
   "outputs": [
    {
     "name": "stderr",
     "output_type": "stream",
     "text": [
      "b'Skipping line 4012: expected 10 fields, saw 11\\nSkipping line 5688: expected 10 fields, saw 11\\nSkipping line 7056: expected 10 fields, saw 11\\nSkipping line 10601: expected 10 fields, saw 11\\nSkipping line 10668: expected 10 fields, saw 11\\n'\n"
     ]
    }
   ],
   "source": [
    "df = pd.read_csv(\"books-goodreader.csv\", sep=',', error_bad_lines=False)"
   ]
  },
  {
   "cell_type": "code",
   "execution_count": 5,
   "metadata": {},
   "outputs": [
    {
     "name": "stdout",
     "output_type": "stream",
     "text": [
      "(13714, 10)\n"
     ]
    },
    {
     "data": {
      "text/html": [
       "<div>\n",
       "<style scoped>\n",
       "    .dataframe tbody tr th:only-of-type {\n",
       "        vertical-align: middle;\n",
       "    }\n",
       "\n",
       "    .dataframe tbody tr th {\n",
       "        vertical-align: top;\n",
       "    }\n",
       "\n",
       "    .dataframe thead th {\n",
       "        text-align: right;\n",
       "    }\n",
       "</style>\n",
       "<table border=\"1\" class=\"dataframe\">\n",
       "  <thead>\n",
       "    <tr style=\"text-align: right;\">\n",
       "      <th></th>\n",
       "      <th>bookID</th>\n",
       "      <th>average_rating</th>\n",
       "      <th>isbn13</th>\n",
       "      <th># num_pages</th>\n",
       "      <th>ratings_count</th>\n",
       "      <th>text_reviews_count</th>\n",
       "    </tr>\n",
       "  </thead>\n",
       "  <tbody>\n",
       "    <tr>\n",
       "      <th>count</th>\n",
       "      <td>13714.0</td>\n",
       "      <td>13714.0</td>\n",
       "      <td>1.371400e+04</td>\n",
       "      <td>13714.0</td>\n",
       "      <td>13714.0</td>\n",
       "      <td>13714.0</td>\n",
       "    </tr>\n",
       "    <tr>\n",
       "      <th>mean</th>\n",
       "      <td>22160.0</td>\n",
       "      <td>4.0</td>\n",
       "      <td>9.764017e+12</td>\n",
       "      <td>342.0</td>\n",
       "      <td>17765.0</td>\n",
       "      <td>534.0</td>\n",
       "    </tr>\n",
       "    <tr>\n",
       "      <th>std</th>\n",
       "      <td>13701.0</td>\n",
       "      <td>0.0</td>\n",
       "      <td>3.987679e+11</td>\n",
       "      <td>253.0</td>\n",
       "      <td>112957.0</td>\n",
       "      <td>2529.0</td>\n",
       "    </tr>\n",
       "    <tr>\n",
       "      <th>min</th>\n",
       "      <td>1.0</td>\n",
       "      <td>0.0</td>\n",
       "      <td>8.987060e+09</td>\n",
       "      <td>0.0</td>\n",
       "      <td>0.0</td>\n",
       "      <td>0.0</td>\n",
       "    </tr>\n",
       "    <tr>\n",
       "      <th>25%</th>\n",
       "      <td>10619.0</td>\n",
       "      <td>4.0</td>\n",
       "      <td>9.780345e+12</td>\n",
       "      <td>196.0</td>\n",
       "      <td>83.0</td>\n",
       "      <td>7.0</td>\n",
       "    </tr>\n",
       "    <tr>\n",
       "      <th>50%</th>\n",
       "      <td>21322.0</td>\n",
       "      <td>4.0</td>\n",
       "      <td>9.780613e+12</td>\n",
       "      <td>301.0</td>\n",
       "      <td>630.0</td>\n",
       "      <td>40.0</td>\n",
       "    </tr>\n",
       "    <tr>\n",
       "      <th>75%</th>\n",
       "      <td>33312.0</td>\n",
       "      <td>4.0</td>\n",
       "      <td>9.780940e+12</td>\n",
       "      <td>421.0</td>\n",
       "      <td>4742.0</td>\n",
       "      <td>222.0</td>\n",
       "    </tr>\n",
       "    <tr>\n",
       "      <th>max</th>\n",
       "      <td>47709.0</td>\n",
       "      <td>5.0</td>\n",
       "      <td>9.790008e+12</td>\n",
       "      <td>6576.0</td>\n",
       "      <td>5629932.0</td>\n",
       "      <td>93619.0</td>\n",
       "    </tr>\n",
       "  </tbody>\n",
       "</table>\n",
       "</div>"
      ],
      "text/plain": [
       "        bookID  average_rating        isbn13  # num_pages  ratings_count  \\\n",
       "count  13714.0         13714.0  1.371400e+04      13714.0        13714.0   \n",
       "mean   22160.0             4.0  9.764017e+12        342.0        17765.0   \n",
       "std    13701.0             0.0  3.987679e+11        253.0       112957.0   \n",
       "min        1.0             0.0  8.987060e+09          0.0            0.0   \n",
       "25%    10619.0             4.0  9.780345e+12        196.0           83.0   \n",
       "50%    21322.0             4.0  9.780613e+12        301.0          630.0   \n",
       "75%    33312.0             4.0  9.780940e+12        421.0         4742.0   \n",
       "max    47709.0             5.0  9.790008e+12       6576.0      5629932.0   \n",
       "\n",
       "       text_reviews_count  \n",
       "count             13714.0  \n",
       "mean                534.0  \n",
       "std                2529.0  \n",
       "min                   0.0  \n",
       "25%                   7.0  \n",
       "50%                  40.0  \n",
       "75%                 222.0  \n",
       "max               93619.0  "
      ]
     },
     "execution_count": 5,
     "metadata": {},
     "output_type": "execute_result"
    }
   ],
   "source": [
    "print(df.shape)\n",
    "df.describe().round(decimals=0)\n"
   ]
  },
  {
   "cell_type": "code",
   "execution_count": 7,
   "metadata": {},
   "outputs": [
    {
     "data": {
      "text/html": [
       "<div>\n",
       "<style scoped>\n",
       "    .dataframe tbody tr th:only-of-type {\n",
       "        vertical-align: middle;\n",
       "    }\n",
       "\n",
       "    .dataframe tbody tr th {\n",
       "        vertical-align: top;\n",
       "    }\n",
       "\n",
       "    .dataframe thead th {\n",
       "        text-align: right;\n",
       "    }\n",
       "</style>\n",
       "<table border=\"1\" class=\"dataframe\">\n",
       "  <thead>\n",
       "    <tr style=\"text-align: right;\">\n",
       "      <th></th>\n",
       "      <th>bookID</th>\n",
       "      <th>title</th>\n",
       "      <th>authors</th>\n",
       "      <th>average_rating</th>\n",
       "      <th>isbn</th>\n",
       "      <th>isbn13</th>\n",
       "      <th>language_code</th>\n",
       "      <th># num_pages</th>\n",
       "      <th>ratings_count</th>\n",
       "      <th>text_reviews_count</th>\n",
       "    </tr>\n",
       "  </thead>\n",
       "  <tbody>\n",
       "    <tr>\n",
       "      <th>3080</th>\n",
       "      <td>9592</td>\n",
       "      <td>Mother Night</td>\n",
       "      <td>Kurt Vonnegut</td>\n",
       "      <td>4.22</td>\n",
       "      <td>0385334141</td>\n",
       "      <td>9780385334143</td>\n",
       "      <td>eng</td>\n",
       "      <td>282</td>\n",
       "      <td>61277</td>\n",
       "      <td>2187</td>\n",
       "    </tr>\n",
       "    <tr>\n",
       "      <th>8925</th>\n",
       "      <td>28668</td>\n",
       "      <td>Ships of Merior (Wars of Light and Shadow  #2)</td>\n",
       "      <td>Janny Wurts</td>\n",
       "      <td>3.87</td>\n",
       "      <td>0061054658</td>\n",
       "      <td>9780061054655</td>\n",
       "      <td>eng</td>\n",
       "      <td>637</td>\n",
       "      <td>1170</td>\n",
       "      <td>25</td>\n",
       "    </tr>\n",
       "    <tr>\n",
       "      <th>6662</th>\n",
       "      <td>20086</td>\n",
       "      <td>The Mark of the Crown (Star Wars: Jedi Apprent...</td>\n",
       "      <td>Jude Watson</td>\n",
       "      <td>3.72</td>\n",
       "      <td>0590519344</td>\n",
       "      <td>9780590519342</td>\n",
       "      <td>eng</td>\n",
       "      <td>131</td>\n",
       "      <td>2247</td>\n",
       "      <td>63</td>\n",
       "    </tr>\n",
       "  </tbody>\n",
       "</table>\n",
       "</div>"
      ],
      "text/plain": [
       "      bookID                                              title  \\\n",
       "3080    9592                                       Mother Night   \n",
       "8925   28668     Ships of Merior (Wars of Light and Shadow  #2)   \n",
       "6662   20086  The Mark of the Crown (Star Wars: Jedi Apprent...   \n",
       "\n",
       "            authors  average_rating        isbn         isbn13 language_code  \\\n",
       "3080  Kurt Vonnegut            4.22  0385334141  9780385334143           eng   \n",
       "8925    Janny Wurts            3.87  0061054658  9780061054655           eng   \n",
       "6662    Jude Watson            3.72  0590519344  9780590519342           eng   \n",
       "\n",
       "      # num_pages  ratings_count  text_reviews_count  \n",
       "3080          282          61277                2187  \n",
       "8925          637           1170                  25  \n",
       "6662          131           2247                  63  "
      ]
     },
     "execution_count": 7,
     "metadata": {},
     "output_type": "execute_result"
    }
   ],
   "source": [
    "df.sample(3)"
   ]
  },
  {
   "cell_type": "code",
   "execution_count": 7,
   "metadata": {},
   "outputs": [
    {
     "data": {
      "text/plain": [
       "17765.397258276214"
      ]
     },
     "execution_count": 7,
     "metadata": {},
     "output_type": "execute_result"
    }
   ],
   "source": [
    "np.mean(df['ratings_count'])"
   ]
  },
  {
   "cell_type": "code",
   "execution_count": 8,
   "metadata": {},
   "outputs": [
    {
     "data": {
      "text/plain": [
       "bookID                419\n",
       "title                 419\n",
       "authors               419\n",
       "average_rating        419\n",
       "isbn                  419\n",
       "isbn13                419\n",
       "language_code         419\n",
       "# num_pages           419\n",
       "ratings_count         419\n",
       "text_reviews_count    419\n",
       "dtype: int64"
      ]
     },
     "execution_count": 8,
     "metadata": {},
     "output_type": "execute_result"
    }
   ],
   "source": [
    "df[df['language_code'] == 'spa'].count()"
   ]
  },
  {
   "cell_type": "code",
   "execution_count": 9,
   "metadata": {},
   "outputs": [
    {
     "data": {
      "text/plain": [
       "bookID                419\n",
       "title                 419\n",
       "authors               419\n",
       "average_rating        419\n",
       "isbn                  419\n",
       "isbn13                419\n",
       "language_code         419\n",
       "# num_pages           419\n",
       "ratings_count         419\n",
       "text_reviews_count    419\n",
       "dtype: int64"
      ]
     },
     "execution_count": 9,
     "metadata": {},
     "output_type": "execute_result"
    }
   ],
   "source": [
    "df[df['language_code'] == 'spa'].count()"
   ]
  },
  {
   "cell_type": "code",
   "execution_count": 11,
   "metadata": {},
   "outputs": [
    {
     "data": {
      "text/plain": [
       "<matplotlib.axes._subplots.AxesSubplot at 0x115ff0358>"
      ]
     },
     "execution_count": 11,
     "metadata": {},
     "output_type": "execute_result"
    },
    {
     "data": {
      "image/png": "[encoded data removed]",
      "text/plain": [
       "<Figure size 432x288 with 1 Axes>"
      ]
     },
     "metadata": {
      "needs_background": "light"
     },
     "output_type": "display_data"
    }
   ],
   "source": [
    "df.plot()"
   ]
  },
  {
   "cell_type": "code",
   "execution_count": 15,
   "metadata": {},
   "outputs": [
    {
     "data": {
      "text/html": [
       "<div>\n",
       "<style scoped>\n",
       "    .dataframe tbody tr th:only-of-type {\n",
       "        vertical-align: middle;\n",
       "    }\n",
       "\n",
       "    .dataframe tbody tr th {\n",
       "        vertical-align: top;\n",
       "    }\n",
       "\n",
       "    .dataframe thead th {\n",
       "        text-align: right;\n",
       "    }\n",
       "</style>\n",
       "<table border=\"1\" class=\"dataframe\">\n",
       "  <thead>\n",
       "    <tr style=\"text-align: right;\">\n",
       "      <th></th>\n",
       "      <th>bookID</th>\n",
       "      <th>title</th>\n",
       "      <th>authors</th>\n",
       "      <th>isbn</th>\n",
       "      <th>isbn13</th>\n",
       "      <th>language_code</th>\n",
       "      <th># num_pages</th>\n",
       "      <th>ratings_count</th>\n",
       "      <th>text_reviews_count</th>\n",
       "    </tr>\n",
       "    <tr>\n",
       "      <th>average_rating</th>\n",
       "      <th></th>\n",
       "      <th></th>\n",
       "      <th></th>\n",
       "      <th></th>\n",
       "      <th></th>\n",
       "      <th></th>\n",
       "      <th></th>\n",
       "      <th></th>\n",
       "      <th></th>\n",
       "    </tr>\n",
       "  </thead>\n",
       "  <tbody>\n",
       "    <tr>\n",
       "      <th>4.05</th>\n",
       "      <td>193</td>\n",
       "      <td>193</td>\n",
       "      <td>193</td>\n",
       "      <td>193</td>\n",
       "      <td>193</td>\n",
       "      <td>193</td>\n",
       "      <td>193</td>\n",
       "      <td>193</td>\n",
       "      <td>193</td>\n",
       "    </tr>\n",
       "    <tr>\n",
       "      <th>4.61</th>\n",
       "      <td>8</td>\n",
       "      <td>8</td>\n",
       "      <td>8</td>\n",
       "      <td>8</td>\n",
       "      <td>8</td>\n",
       "      <td>8</td>\n",
       "      <td>8</td>\n",
       "      <td>8</td>\n",
       "      <td>8</td>\n",
       "    </tr>\n",
       "    <tr>\n",
       "      <th>3.13</th>\n",
       "      <td>5</td>\n",
       "      <td>5</td>\n",
       "      <td>5</td>\n",
       "      <td>5</td>\n",
       "      <td>5</td>\n",
       "      <td>5</td>\n",
       "      <td>5</td>\n",
       "      <td>5</td>\n",
       "      <td>5</td>\n",
       "    </tr>\n",
       "    <tr>\n",
       "      <th>4.80</th>\n",
       "      <td>3</td>\n",
       "      <td>3</td>\n",
       "      <td>3</td>\n",
       "      <td>3</td>\n",
       "      <td>3</td>\n",
       "      <td>3</td>\n",
       "      <td>3</td>\n",
       "      <td>3</td>\n",
       "      <td>3</td>\n",
       "    </tr>\n",
       "    <tr>\n",
       "      <th>4.27</th>\n",
       "      <td>101</td>\n",
       "      <td>101</td>\n",
       "      <td>101</td>\n",
       "      <td>101</td>\n",
       "      <td>101</td>\n",
       "      <td>101</td>\n",
       "      <td>101</td>\n",
       "      <td>101</td>\n",
       "      <td>101</td>\n",
       "    </tr>\n",
       "    <tr>\n",
       "      <th>3.77</th>\n",
       "      <td>126</td>\n",
       "      <td>126</td>\n",
       "      <td>126</td>\n",
       "      <td>126</td>\n",
       "      <td>126</td>\n",
       "      <td>126</td>\n",
       "      <td>126</td>\n",
       "      <td>126</td>\n",
       "      <td>126</td>\n",
       "    </tr>\n",
       "  </tbody>\n",
       "</table>\n",
       "</div>"
      ],
      "text/plain": [
       "                bookID  title  authors  isbn  isbn13  language_code  \\\n",
       "average_rating                                                        \n",
       "4.05               193    193      193   193     193            193   \n",
       "4.61                 8      8        8     8       8              8   \n",
       "3.13                 5      5        5     5       5              5   \n",
       "4.80                 3      3        3     3       3              3   \n",
       "4.27               101    101      101   101     101            101   \n",
       "3.77               126    126      126   126     126            126   \n",
       "\n",
       "                # num_pages  ratings_count  text_reviews_count  \n",
       "average_rating                                                  \n",
       "4.05                    193            193                 193  \n",
       "4.61                      8              8                   8  \n",
       "3.13                      5              5                   5  \n",
       "4.80                      3              3                   3  \n",
       "4.27                    101            101                 101  \n",
       "3.77                    126            126                 126  "
      ]
     },
     "execution_count": 15,
     "metadata": {},
     "output_type": "execute_result"
    }
   ],
   "source": [
    "df_per_date =df.groupby(\"average_rating\").count()\n",
    "df_per_date.sample(6)"
   ]
  },
  {
   "cell_type": "code",
   "execution_count": 16,
   "metadata": {},
   "outputs": [
    {
     "name": "stdout",
     "output_type": "stream",
     "text": [
      "Populating the interactive namespace from numpy and matplotlib\n"
     ]
    }
   ],
   "source": [
    "%pylab inline"
   ]
  },
  {
   "cell_type": "code",
   "execution_count": 23,
   "metadata": {},
   "outputs": [
    {
     "data": {
      "image/png": "[encoded data removed]",
      "text/plain": [
       "<Figure size 1080x360 with 1 Axes>"
      ]
     },
     "metadata": {
      "needs_background": "light"
     },
     "output_type": "display_data"
    }
   ],
   "source": [
    "# Así vemos donde se situan los libros\n",
    "plt.figure(figsize=(15,5))\n",
    "plt.plot(df_per_date.index, df_per_date[\"# num_pages\"]);\n",
    "# Se puede ver uan correlación entre número de páginas y puntuación?"
   ]
  },
  {
   "cell_type": "code",
   "execution_count": 28,
   "metadata": {},
   "outputs": [],
   "source": [
    "df_nooutliners = df[df[\"# num_pages\"] < 2000]"
   ]
  },
  {
   "cell_type": "code",
   "execution_count": 29,
   "metadata": {},
   "outputs": [
    {
     "data": {
      "text/plain": [
       "Text(0, 0.5, 'Nota media')"
      ]
     },
     "execution_count": 29,
     "metadata": {},
     "output_type": "execute_result"
    },
    {
     "data": {
      "image/png": "[encoded data removed]",
      "text/plain": [
       "<Figure size 432x288 with 1 Axes>"
      ]
     },
     "metadata": {
      "needs_background": "light"
     },
     "output_type": "display_data"
    }
   ],
   "source": [
    "plt.plot(df_nooutliners[\"# num_pages\"], df_nooutliners[\"average_rating\"], \"bo\")\n",
    "plt.xlabel(\"Nº páginas\")\n",
    "plt.ylabel(\"Nota media\")"
   ]
  },
  {
   "cell_type": "code",
   "execution_count": 32,
   "metadata": {},
   "outputs": [
    {
     "data": {
      "text/plain": [
       "0.16175885360497996"
      ]
     },
     "execution_count": 32,
     "metadata": {},
     "output_type": "execute_result"
    }
   ],
   "source": [
    "r = df_nooutliners.corr(method=\"pearson\")[\"# num_pages\"][\"average_rating\"]\n",
    "r\n",
    "#Realmente no hay mucha correlación, pero sí que se ve que muchos libro están entre las notas 3 y 5"
   ]
  },
  {
   "cell_type": "code",
   "execution_count": 37,
   "metadata": {},
   "outputs": [
    {
     "data": {
      "text/plain": [
       "bookID                34\n",
       "title                 34\n",
       "authors               34\n",
       "average_rating        34\n",
       "isbn                  34\n",
       "isbn13                34\n",
       "language_code         34\n",
       "# num_pages           34\n",
       "ratings_count         34\n",
       "text_reviews_count    34\n",
       "dtype: int64"
      ]
     },
     "execution_count": 37,
     "metadata": {},
     "output_type": "execute_result"
    }
   ],
   "source": [
    "df[df[\"average_rating\"] == 0].count()\n",
    "#Con Varage rating 0"
   ]
  },
  {
   "cell_type": "code",
   "execution_count": 36,
   "metadata": {},
   "outputs": [
    {
     "data": {
      "text/plain": [
       "bookID                114\n",
       "title                 114\n",
       "authors               114\n",
       "average_rating        114\n",
       "isbn                  114\n",
       "isbn13                114\n",
       "language_code         114\n",
       "# num_pages           114\n",
       "ratings_count         114\n",
       "text_reviews_count    114\n",
       "dtype: int64"
      ]
     },
     "execution_count": 36,
     "metadata": {},
     "output_type": "execute_result"
    }
   ],
   "source": [
    "df[df[\"ratings_count\"] == 0].count()\n",
    "# Sin ratings "
   ]
  },
  {
   "cell_type": "code",
   "execution_count": null,
   "metadata": {},
   "outputs": [],
   "source": []
  }
 ],
 "metadata": {
  "kernelspec": {
   "display_name": "Python 3",
   "language": "python",
   "name": "python3"
  },
  "language_info": {
   "codemirror_mode": {
    "name": "ipython",
    "version": 3
   },
   "file_extension": ".py",
   "mimetype": "text/x-python",
   "name": "python",
   "nbconvert_exporter": "python",
   "pygments_lexer": "ipython3",
   "version": "3.7.3"
  }
 },
 "nbformat": 4,
 "nbformat_minor": 4
}
