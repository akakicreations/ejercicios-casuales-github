{
 "cells": [
  {
   "cell_type": "markdown",
   "metadata": {},
   "source": [
    "# Books Goodreader"
   ]
  },
  {
   "cell_type": "code",
   "execution_count": 1,
   "metadata": {},
   "outputs": [],
   "source": [
    "import pandas as pd\n",
    "import numpy as np\n",
    "import matplotlib.pyplot as plt"
   ]
  },
  {
   "cell_type": "code",
   "execution_count": 2,
   "metadata": {},
   "outputs": [
    {
     "name": "stdout",
     "output_type": "stream",
     "text": [
      "bookID,title,authors,average_rating,isbn,isbn13,language_code,# num_pages,ratings_count,text_reviews_count\n",
      "1,Harry Potter and the Half-Blood Prince (Harry Potter  #6),J.K. Rowling-Mary GrandPré,4.56,0439785960,9780439785969,eng,652,1944099,26249\n"
     ]
    }
   ],
   "source": [
    "! head -n 2 books-goodreader.csv"
   ]
  },
  {
   "cell_type": "code",
   "execution_count": 3,
   "metadata": {},
   "outputs": [
    {
     "name": "stdout",
     "output_type": "stream",
     "text": [
      "   13720 books-goodreader.csv\n",
      "10\n"
     ]
    }
   ],
   "source": [
    "! wc -l books-goodreader.csv #Tiene 13720 filas\n",
    "! awk -F, '{print NF; exit}' books-goodreader.csv #Para saber el número de columnas"
   ]
  },
  {
   "cell_type": "code",
   "execution_count": 5,
   "metadata": {},
   "outputs": [
    {
     "name": "stderr",
     "output_type": "stream",
     "text": [
      "b'Skipping line 4012: expected 10 fields, saw 11\\nSkipping line 5688: expected 10 fields, saw 11\\nSkipping line 7056: expected 10 fields, saw 11\\nSkipping line 10601: expected 10 fields, saw 11\\nSkipping line 10668: expected 10 fields, saw 11\\n'\n"
     ]
    }
   ],
   "source": [
    "df = pd.read_csv(\"books-goodreader.csv\", sep=',', error_bad_lines=False)"
   ]
  },
  {
   "cell_type": "code",
   "execution_count": 6,
   "metadata": {},
   "outputs": [
    {
     "name": "stdout",
     "output_type": "stream",
     "text": [
      "(13714, 10)\n"
     ]
    },
    {
     "data": {
      "text/html": [
       "<div>\n",
       "<style scoped>\n",
       "    .dataframe tbody tr th:only-of-type {\n",
       "        vertical-align: middle;\n",
       "    }\n",
       "\n",
       "    .dataframe tbody tr th {\n",
       "        vertical-align: top;\n",
       "    }\n",
       "\n",
       "    .dataframe thead th {\n",
       "        text-align: right;\n",
       "    }\n",
       "</style>\n",
       "<table border=\"1\" class=\"dataframe\">\n",
       "  <thead>\n",
       "    <tr style=\"text-align: right;\">\n",
       "      <th></th>\n",
       "      <th>bookID</th>\n",
       "      <th>average_rating</th>\n",
       "      <th>isbn13</th>\n",
       "      <th># num_pages</th>\n",
       "      <th>ratings_count</th>\n",
       "      <th>text_reviews_count</th>\n",
       "    </tr>\n",
       "  </thead>\n",
       "  <tbody>\n",
       "    <tr>\n",
       "      <th>count</th>\n",
       "      <td>13714.0</td>\n",
       "      <td>13714.0</td>\n",
       "      <td>1.371400e+04</td>\n",
       "      <td>13714.0</td>\n",
       "      <td>13714.0</td>\n",
       "      <td>13714.0</td>\n",
       "    </tr>\n",
       "    <tr>\n",
       "      <th>mean</th>\n",
       "      <td>22160.0</td>\n",
       "      <td>4.0</td>\n",
       "      <td>9.764017e+12</td>\n",
       "      <td>342.0</td>\n",
       "      <td>17765.0</td>\n",
       "      <td>534.0</td>\n",
       "    </tr>\n",
       "    <tr>\n",
       "      <th>std</th>\n",
       "      <td>13701.0</td>\n",
       "      <td>0.0</td>\n",
       "      <td>3.987679e+11</td>\n",
       "      <td>253.0</td>\n",
       "      <td>112957.0</td>\n",
       "      <td>2529.0</td>\n",
       "    </tr>\n",
       "    <tr>\n",
       "      <th>min</th>\n",
       "      <td>1.0</td>\n",
       "      <td>0.0</td>\n",
       "      <td>8.987060e+09</td>\n",
       "      <td>0.0</td>\n",
       "      <td>0.0</td>\n",
       "      <td>0.0</td>\n",
       "    </tr>\n",
       "    <tr>\n",
       "      <th>25%</th>\n",
       "      <td>10619.0</td>\n",
       "      <td>4.0</td>\n",
       "      <td>9.780345e+12</td>\n",
       "      <td>196.0</td>\n",
       "      <td>83.0</td>\n",
       "      <td>7.0</td>\n",
       "    </tr>\n",
       "    <tr>\n",
       "      <th>50%</th>\n",
       "      <td>21322.0</td>\n",
       "      <td>4.0</td>\n",
       "      <td>9.780613e+12</td>\n",
       "      <td>301.0</td>\n",
       "      <td>630.0</td>\n",
       "      <td>40.0</td>\n",
       "    </tr>\n",
       "    <tr>\n",
       "      <th>75%</th>\n",
       "      <td>33312.0</td>\n",
       "      <td>4.0</td>\n",
       "      <td>9.780940e+12</td>\n",
       "      <td>421.0</td>\n",
       "      <td>4742.0</td>\n",
       "      <td>222.0</td>\n",
       "    </tr>\n",
       "    <tr>\n",
       "      <th>max</th>\n",
       "      <td>47709.0</td>\n",
       "      <td>5.0</td>\n",
       "      <td>9.790008e+12</td>\n",
       "      <td>6576.0</td>\n",
       "      <td>5629932.0</td>\n",
       "      <td>93619.0</td>\n",
       "    </tr>\n",
       "  </tbody>\n",
       "</table>\n",
       "</div>"
      ],
      "text/plain": [
       "        bookID  average_rating        isbn13  # num_pages  ratings_count  \\\n",
       "count  13714.0         13714.0  1.371400e+04      13714.0        13714.0   \n",
       "mean   22160.0             4.0  9.764017e+12        342.0        17765.0   \n",
       "std    13701.0             0.0  3.987679e+11        253.0       112957.0   \n",
       "min        1.0             0.0  8.987060e+09          0.0            0.0   \n",
       "25%    10619.0             4.0  9.780345e+12        196.0           83.0   \n",
       "50%    21322.0             4.0  9.780613e+12        301.0          630.0   \n",
       "75%    33312.0             4.0  9.780940e+12        421.0         4742.0   \n",
       "max    47709.0             5.0  9.790008e+12       6576.0      5629932.0   \n",
       "\n",
       "       text_reviews_count  \n",
       "count             13714.0  \n",
       "mean                534.0  \n",
       "std                2529.0  \n",
       "min                   0.0  \n",
       "25%                   7.0  \n",
       "50%                  40.0  \n",
       "75%                 222.0  \n",
       "max               93619.0  "
      ]
     },
     "execution_count": 6,
     "metadata": {},
     "output_type": "execute_result"
    }
   ],
   "source": [
    "print(df.shape)\n",
    "df.describe().round(decimals=0)"
   ]
  },
  {
   "cell_type": "code",
   "execution_count": 17,
   "metadata": {},
   "outputs": [
    {
     "data": {
      "text/html": [
       "<div>\n",
       "<style scoped>\n",
       "    .dataframe tbody tr th:only-of-type {\n",
       "        vertical-align: middle;\n",
       "    }\n",
       "\n",
       "    .dataframe tbody tr th {\n",
       "        vertical-align: top;\n",
       "    }\n",
       "\n",
       "    .dataframe thead th {\n",
       "        text-align: right;\n",
       "    }\n",
       "</style>\n",
       "<table border=\"1\" class=\"dataframe\">\n",
       "  <thead>\n",
       "    <tr style=\"text-align: right;\">\n",
       "      <th></th>\n",
       "      <th>bookID</th>\n",
       "      <th>title</th>\n",
       "      <th>authors</th>\n",
       "      <th>average_rating</th>\n",
       "      <th>isbn</th>\n",
       "      <th>isbn13</th>\n",
       "      <th>language_code</th>\n",
       "      <th># num_pages</th>\n",
       "      <th>ratings_count</th>\n",
       "      <th>text_reviews_count</th>\n",
       "    </tr>\n",
       "  </thead>\n",
       "  <tbody>\n",
       "    <tr>\n",
       "      <th>6033</th>\n",
       "      <td>18031</td>\n",
       "      <td>Ukridge</td>\n",
       "      <td>P.G. Wodehouse</td>\n",
       "      <td>3.89</td>\n",
       "      <td>1585674796</td>\n",
       "      <td>9781585674794</td>\n",
       "      <td>eng</td>\n",
       "      <td>272</td>\n",
       "      <td>987</td>\n",
       "      <td>80</td>\n",
       "    </tr>\n",
       "    <tr>\n",
       "      <th>2543</th>\n",
       "      <td>7717</td>\n",
       "      <td>The Metamorphosis (Graphic Novel Adaptation)</td>\n",
       "      <td>Peter Kuper-Franz Kafka-Kerstin Hasenpusch</td>\n",
       "      <td>3.77</td>\n",
       "      <td>1400047951</td>\n",
       "      <td>9781400047956</td>\n",
       "      <td>eng</td>\n",
       "      <td>80</td>\n",
       "      <td>144</td>\n",
       "      <td>21</td>\n",
       "    </tr>\n",
       "    <tr>\n",
       "      <th>2811</th>\n",
       "      <td>8705</td>\n",
       "      <td>Dirk Gently's Holistic Detective Agency / The ...</td>\n",
       "      <td>Douglas Adams</td>\n",
       "      <td>4.18</td>\n",
       "      <td>0517119129</td>\n",
       "      <td>9780517119129</td>\n",
       "      <td>eng</td>\n",
       "      <td>436</td>\n",
       "      <td>238</td>\n",
       "      <td>18</td>\n",
       "    </tr>\n",
       "  </tbody>\n",
       "</table>\n",
       "</div>"
      ],
      "text/plain": [
       "      bookID                                              title  \\\n",
       "6033   18031                                            Ukridge   \n",
       "2543    7717       The Metamorphosis (Graphic Novel Adaptation)   \n",
       "2811    8705  Dirk Gently's Holistic Detective Agency / The ...   \n",
       "\n",
       "                                         authors  average_rating        isbn  \\\n",
       "6033                              P.G. Wodehouse            3.89  1585674796   \n",
       "2543  Peter Kuper-Franz Kafka-Kerstin Hasenpusch            3.77  1400047951   \n",
       "2811                               Douglas Adams            4.18  0517119129   \n",
       "\n",
       "             isbn13 language_code  # num_pages  ratings_count  \\\n",
       "6033  9781585674794           eng          272            987   \n",
       "2543  9781400047956           eng           80            144   \n",
       "2811  9780517119129           eng          436            238   \n",
       "\n",
       "      text_reviews_count  \n",
       "6033                  80  \n",
       "2543                  21  \n",
       "2811                  18  "
      ]
     },
     "execution_count": 17,
     "metadata": {},
     "output_type": "execute_result"
    }
   ],
   "source": [
    "df.sample(3) #Vemos una muestra"
   ]
  },
  {
   "cell_type": "code",
   "execution_count": 23,
   "metadata": {},
   "outputs": [
    {
     "name": "stdout",
     "output_type": "stream",
     "text": [
      "17765.397258276214\n",
      "630.5\n",
      "112953.10718356872\n"
     ]
    }
   ],
   "source": [
    "print(np.mean(df['ratings_count'])) #Cuál es la media de ratings?\n",
    "print(np.median(df['ratings_count'])) #Cuál es la mediana de ratings?\n",
    "print(np.std(df['ratings_count'])) # Vemos que la desviacion estándar es muy alta"
   ]
  },
  {
   "cell_type": "code",
   "execution_count": 33,
   "metadata": {},
   "outputs": [
    {
     "data": {
      "text/plain": [
       "bookID                27.110981\n",
       "title                 27.110981\n",
       "authors               27.110981\n",
       "average_rating        27.110981\n",
       "isbn                  27.110981\n",
       "isbn13                27.110981\n",
       "language_code         27.110981\n",
       "# num_pages           27.110981\n",
       "ratings_count         27.110981\n",
       "text_reviews_count    27.110981\n",
       "dtype: float64"
      ]
     },
     "execution_count": 33,
     "metadata": {},
     "output_type": "execute_result"
    }
   ],
   "source": [
    "#Porcentaje de datos respecto al total que tienen menos de 00 ratings\n",
    "(df[df['ratings_count'] < 100].count())*100/ df.shape[0]"
   ]
  },
  {
   "cell_type": "code",
   "execution_count": 36,
   "metadata": {},
   "outputs": [
    {
     "data": {
      "text/plain": [
       "bookID                22.750474\n",
       "title                 22.750474\n",
       "authors               22.750474\n",
       "average_rating        22.750474\n",
       "isbn                  22.750474\n",
       "isbn13                22.750474\n",
       "language_code         22.750474\n",
       "# num_pages           22.750474\n",
       "ratings_count         22.750474\n",
       "text_reviews_count    22.750474\n",
       "dtype: float64"
      ]
     },
     "execution_count": 36,
     "metadata": {},
     "output_type": "execute_result"
    }
   ],
   "source": [
    "# Porcentaje de libros en español respecto al total\n",
    "(df[df['language_code'] == 'spa'].count())*100/ df.shape[0]\n",
    "# Porcentaje de libros en que no son en inglés\n",
    "(df[df['language_code'] != 'eng'].count())*100/ df.shape[0]"
   ]
  },
  {
   "cell_type": "code",
   "execution_count": 51,
   "metadata": {},
   "outputs": [
    {
     "data": {
      "image/png": "[encoded data removed]",
      "text/plain": [
       "<Figure size 432x288 with 1 Axes>"
      ]
     },
     "metadata": {
      "needs_background": "light"
     },
     "output_type": "display_data"
    },
    {
     "data": {
      "image/png": "[encoded data removed]",
      "text/plain": [
       "<Figure size 432x288 with 1 Axes>"
      ]
     },
     "metadata": {
      "needs_background": "light"
     },
     "output_type": "display_data"
    },
    {
     "data": {
      "image/png": "[encoded data removed]",
      "text/plain": [
       "<Figure size 432x288 with 1 Axes>"
      ]
     },
     "metadata": {
      "needs_background": "light"
     },
     "output_type": "display_data"
    }
   ],
   "source": [
    "#Vamos a ver cómo están distribuidos los datos, quitando los outliers\n",
    "plt.boxplot(df['# num_pages'], showfliers=False)\n",
    "plt.show()\n",
    "plt.boxplot(df['average_rating'], showfliers=False)\n",
    "plt.show()\n",
    "plt.boxplot(df['# num_pages'], showfliers=False)\n",
    "plt.show()"
   ]
  },
  {
   "cell_type": "code",
   "execution_count": 100,
   "metadata": {},
   "outputs": [
    {
     "data": {
      "text/html": [
       "<div>\n",
       "<style scoped>\n",
       "    .dataframe tbody tr th:only-of-type {\n",
       "        vertical-align: middle;\n",
       "    }\n",
       "\n",
       "    .dataframe tbody tr th {\n",
       "        vertical-align: top;\n",
       "    }\n",
       "\n",
       "    .dataframe thead th {\n",
       "        text-align: right;\n",
       "    }\n",
       "</style>\n",
       "<table border=\"1\" class=\"dataframe\">\n",
       "  <thead>\n",
       "    <tr style=\"text-align: right;\">\n",
       "      <th></th>\n",
       "      <th>bookID</th>\n",
       "      <th>title</th>\n",
       "      <th>authors</th>\n",
       "      <th>average_rating</th>\n",
       "      <th>isbn</th>\n",
       "      <th>isbn13</th>\n",
       "      <th>language_code</th>\n",
       "      <th># num_pages</th>\n",
       "      <th>ratings_count</th>\n",
       "      <th>text_reviews_count</th>\n",
       "    </tr>\n",
       "    <tr>\n",
       "      <th>average_rating</th>\n",
       "      <th></th>\n",
       "      <th></th>\n",
       "      <th></th>\n",
       "      <th></th>\n",
       "      <th></th>\n",
       "      <th></th>\n",
       "      <th></th>\n",
       "      <th></th>\n",
       "      <th></th>\n",
       "      <th></th>\n",
       "    </tr>\n",
       "  </thead>\n",
       "  <tbody>\n",
       "    <tr>\n",
       "      <th>(0.0, 0.5]</th>\n",
       "      <td>0</td>\n",
       "      <td>0</td>\n",
       "      <td>0</td>\n",
       "      <td>0</td>\n",
       "      <td>0</td>\n",
       "      <td>0</td>\n",
       "      <td>0</td>\n",
       "      <td>0</td>\n",
       "      <td>0</td>\n",
       "      <td>0</td>\n",
       "    </tr>\n",
       "    <tr>\n",
       "      <th>(0.5, 1.0]</th>\n",
       "      <td>2</td>\n",
       "      <td>2</td>\n",
       "      <td>2</td>\n",
       "      <td>2</td>\n",
       "      <td>2</td>\n",
       "      <td>2</td>\n",
       "      <td>2</td>\n",
       "      <td>2</td>\n",
       "      <td>2</td>\n",
       "      <td>2</td>\n",
       "    </tr>\n",
       "    <tr>\n",
       "      <th>(1.0, 1.5]</th>\n",
       "      <td>0</td>\n",
       "      <td>0</td>\n",
       "      <td>0</td>\n",
       "      <td>0</td>\n",
       "      <td>0</td>\n",
       "      <td>0</td>\n",
       "      <td>0</td>\n",
       "      <td>0</td>\n",
       "      <td>0</td>\n",
       "      <td>0</td>\n",
       "    </tr>\n",
       "    <tr>\n",
       "      <th>(1.5, 2.0]</th>\n",
       "      <td>11</td>\n",
       "      <td>11</td>\n",
       "      <td>11</td>\n",
       "      <td>11</td>\n",
       "      <td>11</td>\n",
       "      <td>11</td>\n",
       "      <td>11</td>\n",
       "      <td>11</td>\n",
       "      <td>11</td>\n",
       "      <td>11</td>\n",
       "    </tr>\n",
       "    <tr>\n",
       "      <th>(2.0, 2.5]</th>\n",
       "      <td>9</td>\n",
       "      <td>9</td>\n",
       "      <td>9</td>\n",
       "      <td>9</td>\n",
       "      <td>9</td>\n",
       "      <td>9</td>\n",
       "      <td>9</td>\n",
       "      <td>9</td>\n",
       "      <td>9</td>\n",
       "      <td>9</td>\n",
       "    </tr>\n",
       "    <tr>\n",
       "      <th>(2.5, 3.0]</th>\n",
       "      <td>79</td>\n",
       "      <td>79</td>\n",
       "      <td>79</td>\n",
       "      <td>79</td>\n",
       "      <td>79</td>\n",
       "      <td>79</td>\n",
       "      <td>79</td>\n",
       "      <td>79</td>\n",
       "      <td>79</td>\n",
       "      <td>79</td>\n",
       "    </tr>\n",
       "    <tr>\n",
       "      <th>(3.0, 3.5]</th>\n",
       "      <td>862</td>\n",
       "      <td>862</td>\n",
       "      <td>862</td>\n",
       "      <td>862</td>\n",
       "      <td>862</td>\n",
       "      <td>862</td>\n",
       "      <td>862</td>\n",
       "      <td>862</td>\n",
       "      <td>862</td>\n",
       "      <td>862</td>\n",
       "    </tr>\n",
       "    <tr>\n",
       "      <th>(3.5, 4.0]</th>\n",
       "      <td>6959</td>\n",
       "      <td>6959</td>\n",
       "      <td>6959</td>\n",
       "      <td>6959</td>\n",
       "      <td>6959</td>\n",
       "      <td>6959</td>\n",
       "      <td>6959</td>\n",
       "      <td>6959</td>\n",
       "      <td>6959</td>\n",
       "      <td>6959</td>\n",
       "    </tr>\n",
       "    <tr>\n",
       "      <th>(4.0, 4.5]</th>\n",
       "      <td>5515</td>\n",
       "      <td>5515</td>\n",
       "      <td>5515</td>\n",
       "      <td>5515</td>\n",
       "      <td>5515</td>\n",
       "      <td>5515</td>\n",
       "      <td>5515</td>\n",
       "      <td>5515</td>\n",
       "      <td>5515</td>\n",
       "      <td>5515</td>\n",
       "    </tr>\n",
       "  </tbody>\n",
       "</table>\n",
       "</div>"
      ],
      "text/plain": [
       "                bookID  title  authors  average_rating  isbn  isbn13  \\\n",
       "average_rating                                                         \n",
       "(0.0, 0.5]           0      0        0               0     0       0   \n",
       "(0.5, 1.0]           2      2        2               2     2       2   \n",
       "(1.0, 1.5]           0      0        0               0     0       0   \n",
       "(1.5, 2.0]          11     11       11              11    11      11   \n",
       "(2.0, 2.5]           9      9        9               9     9       9   \n",
       "(2.5, 3.0]          79     79       79              79    79      79   \n",
       "(3.0, 3.5]         862    862      862             862   862     862   \n",
       "(3.5, 4.0]        6959   6959     6959            6959  6959    6959   \n",
       "(4.0, 4.5]        5515   5515     5515            5515  5515    5515   \n",
       "\n",
       "                language_code  # num_pages  ratings_count  text_reviews_count  \n",
       "average_rating                                                                 \n",
       "(0.0, 0.5]                  0            0              0                   0  \n",
       "(0.5, 1.0]                  2            2              2                   2  \n",
       "(1.0, 1.5]                  0            0              0                   0  \n",
       "(1.5, 2.0]                 11           11             11                  11  \n",
       "(2.0, 2.5]                  9            9              9                   9  \n",
       "(2.5, 3.0]                 79           79             79                  79  \n",
       "(3.0, 3.5]                862          862            862                 862  \n",
       "(3.5, 4.0]               6959         6959           6959                6959  \n",
       "(4.0, 4.5]               5515         5515           5515                5515  "
      ]
     },
     "execution_count": 100,
     "metadata": {},
     "output_type": "execute_result"
    }
   ],
   "source": [
    "#Agrupamos por media y contamos los que hay con determinados rangos de puntuación\n",
    "df_group = df.groupby(pd.cut(df[\"average_rating\"], np.arange(0, 5.0, 0.5))).count()\n",
    "df_group"
   ]
  },
  {
   "cell_type": "code",
   "execution_count": 112,
   "metadata": {},
   "outputs": [
    {
     "data": {
      "text/html": [
       "<div>\n",
       "<style scoped>\n",
       "    .dataframe tbody tr th:only-of-type {\n",
       "        vertical-align: middle;\n",
       "    }\n",
       "\n",
       "    .dataframe tbody tr th {\n",
       "        vertical-align: top;\n",
       "    }\n",
       "\n",
       "    .dataframe thead th {\n",
       "        text-align: right;\n",
       "    }\n",
       "</style>\n",
       "<table border=\"1\" class=\"dataframe\">\n",
       "  <thead>\n",
       "    <tr style=\"text-align: right;\">\n",
       "      <th></th>\n",
       "      <th>bookID</th>\n",
       "      <th>title</th>\n",
       "      <th>authors</th>\n",
       "      <th>isbn</th>\n",
       "      <th>isbn13</th>\n",
       "      <th>language_code</th>\n",
       "      <th># num_pages</th>\n",
       "      <th>ratings_count</th>\n",
       "      <th>text_reviews_count</th>\n",
       "    </tr>\n",
       "    <tr>\n",
       "      <th>average_rating</th>\n",
       "      <th></th>\n",
       "      <th></th>\n",
       "      <th></th>\n",
       "      <th></th>\n",
       "      <th></th>\n",
       "      <th></th>\n",
       "      <th></th>\n",
       "      <th></th>\n",
       "      <th></th>\n",
       "    </tr>\n",
       "  </thead>\n",
       "  <tbody>\n",
       "    <tr>\n",
       "      <th>0.00</th>\n",
       "      <td>34</td>\n",
       "      <td>34</td>\n",
       "      <td>34</td>\n",
       "      <td>34</td>\n",
       "      <td>34</td>\n",
       "      <td>34</td>\n",
       "      <td>34</td>\n",
       "      <td>34</td>\n",
       "      <td>34</td>\n",
       "    </tr>\n",
       "    <tr>\n",
       "      <th>1.00</th>\n",
       "      <td>2</td>\n",
       "      <td>2</td>\n",
       "      <td>2</td>\n",
       "      <td>2</td>\n",
       "      <td>2</td>\n",
       "      <td>2</td>\n",
       "      <td>2</td>\n",
       "      <td>2</td>\n",
       "      <td>2</td>\n",
       "    </tr>\n",
       "    <tr>\n",
       "      <th>1.67</th>\n",
       "      <td>1</td>\n",
       "      <td>1</td>\n",
       "      <td>1</td>\n",
       "      <td>1</td>\n",
       "      <td>1</td>\n",
       "      <td>1</td>\n",
       "      <td>1</td>\n",
       "      <td>1</td>\n",
       "      <td>1</td>\n",
       "    </tr>\n",
       "    <tr>\n",
       "      <th>2.00</th>\n",
       "      <td>10</td>\n",
       "      <td>10</td>\n",
       "      <td>10</td>\n",
       "      <td>10</td>\n",
       "      <td>10</td>\n",
       "      <td>10</td>\n",
       "      <td>10</td>\n",
       "      <td>10</td>\n",
       "      <td>10</td>\n",
       "    </tr>\n",
       "    <tr>\n",
       "      <th>2.33</th>\n",
       "      <td>2</td>\n",
       "      <td>2</td>\n",
       "      <td>2</td>\n",
       "      <td>2</td>\n",
       "      <td>2</td>\n",
       "      <td>2</td>\n",
       "      <td>2</td>\n",
       "      <td>2</td>\n",
       "      <td>2</td>\n",
       "    </tr>\n",
       "    <tr>\n",
       "      <th>...</th>\n",
       "      <td>...</td>\n",
       "      <td>...</td>\n",
       "      <td>...</td>\n",
       "      <td>...</td>\n",
       "      <td>...</td>\n",
       "      <td>...</td>\n",
       "      <td>...</td>\n",
       "      <td>...</td>\n",
       "      <td>...</td>\n",
       "    </tr>\n",
       "    <tr>\n",
       "      <th>4.86</th>\n",
       "      <td>1</td>\n",
       "      <td>1</td>\n",
       "      <td>1</td>\n",
       "      <td>1</td>\n",
       "      <td>1</td>\n",
       "      <td>1</td>\n",
       "      <td>1</td>\n",
       "      <td>1</td>\n",
       "      <td>1</td>\n",
       "    </tr>\n",
       "    <tr>\n",
       "      <th>4.87</th>\n",
       "      <td>1</td>\n",
       "      <td>1</td>\n",
       "      <td>1</td>\n",
       "      <td>1</td>\n",
       "      <td>1</td>\n",
       "      <td>1</td>\n",
       "      <td>1</td>\n",
       "      <td>1</td>\n",
       "      <td>1</td>\n",
       "    </tr>\n",
       "    <tr>\n",
       "      <th>4.88</th>\n",
       "      <td>1</td>\n",
       "      <td>1</td>\n",
       "      <td>1</td>\n",
       "      <td>1</td>\n",
       "      <td>1</td>\n",
       "      <td>1</td>\n",
       "      <td>1</td>\n",
       "      <td>1</td>\n",
       "      <td>1</td>\n",
       "    </tr>\n",
       "    <tr>\n",
       "      <th>4.91</th>\n",
       "      <td>1</td>\n",
       "      <td>1</td>\n",
       "      <td>1</td>\n",
       "      <td>1</td>\n",
       "      <td>1</td>\n",
       "      <td>1</td>\n",
       "      <td>1</td>\n",
       "      <td>1</td>\n",
       "      <td>1</td>\n",
       "    </tr>\n",
       "    <tr>\n",
       "      <th>5.00</th>\n",
       "      <td>28</td>\n",
       "      <td>28</td>\n",
       "      <td>28</td>\n",
       "      <td>28</td>\n",
       "      <td>28</td>\n",
       "      <td>28</td>\n",
       "      <td>28</td>\n",
       "      <td>28</td>\n",
       "      <td>28</td>\n",
       "    </tr>\n",
       "  </tbody>\n",
       "</table>\n",
       "<p>216 rows × 9 columns</p>\n",
       "</div>"
      ],
      "text/plain": [
       "                bookID  title  authors  isbn  isbn13  language_code  \\\n",
       "average_rating                                                        \n",
       "0.00                34     34       34    34      34             34   \n",
       "1.00                 2      2        2     2       2              2   \n",
       "1.67                 1      1        1     1       1              1   \n",
       "2.00                10     10       10    10      10             10   \n",
       "2.33                 2      2        2     2       2              2   \n",
       "...                ...    ...      ...   ...     ...            ...   \n",
       "4.86                 1      1        1     1       1              1   \n",
       "4.87                 1      1        1     1       1              1   \n",
       "4.88                 1      1        1     1       1              1   \n",
       "4.91                 1      1        1     1       1              1   \n",
       "5.00                28     28       28    28      28             28   \n",
       "\n",
       "                # num_pages  ratings_count  text_reviews_count  \n",
       "average_rating                                                  \n",
       "0.00                     34             34                  34  \n",
       "1.00                      2              2                   2  \n",
       "1.67                      1              1                   1  \n",
       "2.00                     10             10                  10  \n",
       "2.33                      2              2                   2  \n",
       "...                     ...            ...                 ...  \n",
       "4.86                      1              1                   1  \n",
       "4.87                      1              1                   1  \n",
       "4.88                      1              1                   1  \n",
       "4.91                      1              1                   1  \n",
       "5.00                     28             28                  28  \n",
       "\n",
       "[216 rows x 9 columns]"
      ]
     },
     "execution_count": 112,
     "metadata": {},
     "output_type": "execute_result"
    }
   ],
   "source": [
    "#Ahora hacemos esto así porque si hacemos lo anterior sale error, porque \n",
    "# \"float() argument must be a string or a number, not 'pandas._libs.interval.Interval'\"\" y si lo\n",
    "# Hacemos lista se reduce el número de datos, habría que hacer otra columna con los rangos.\n",
    "df_per_date =df.groupby(\"average_rating\").count()\n",
    "df_per_date"
   ]
  },
  {
   "cell_type": "code",
   "execution_count": 113,
   "metadata": {},
   "outputs": [
    {
     "name": "stdout",
     "output_type": "stream",
     "text": [
      "Populating the interactive namespace from numpy and matplotlib\n"
     ]
    }
   ],
   "source": [
    "%pylab inline"
   ]
  },
  {
   "cell_type": "code",
   "execution_count": 124,
   "metadata": {},
   "outputs": [
    {
     "data": {
      "image/png": "[encoded data removed]",
      "text/plain": [
       "<Figure size 1080x360 with 1 Axes>"
      ]
     },
     "metadata": {
      "needs_background": "light"
     },
     "output_type": "display_data"
    }
   ],
   "source": [
    "# Así vemos donde se situan los libros mejor en un gráfico, con el conteo de todas las notas\n",
    "plt.figure(figsize=(15,5))\n",
    "plt.plot(df_per_date.index, df_per_date[\"# num_pages\"]);"
   ]
  },
  {
   "cell_type": "code",
   "execution_count": 115,
   "metadata": {},
   "outputs": [],
   "source": [
    "#Para investigar mejor lo anterior quitamos los oautliers\n",
    "df_nooutliners = df[df[\"# num_pages\"] < 2000]"
   ]
  },
  {
   "cell_type": "code",
   "execution_count": 117,
   "metadata": {},
   "outputs": [
    {
     "data": {
      "text/plain": [
       "Text(0, 0.5, 'Media Ratings')"
      ]
     },
     "execution_count": 117,
     "metadata": {},
     "output_type": "execute_result"
    },
    {
     "data": {
      "image/png": "[encoded data removed]",
      "text/plain": [
       "<Figure size 432x288 with 1 Axes>"
      ]
     },
     "metadata": {
      "needs_background": "light"
     },
     "output_type": "display_data"
    }
   ],
   "source": [
    "#Hay correlación entre número de páginas y Media de ratings?\n",
    "plt.plot(df_nooutliners[\"# num_pages\"], df_nooutliners[\"average_rating\"], \"bo\")\n",
    "plt.xlabel(\"Nº páginas\")\n",
    "plt.ylabel(\"Media Ratings\")"
   ]
  },
  {
   "cell_type": "code",
   "execution_count": 125,
   "metadata": {},
   "outputs": [
    {
     "data": {
      "text/plain": [
       "0.16175885360497996"
      ]
     },
     "execution_count": 125,
     "metadata": {},
     "output_type": "execute_result"
    }
   ],
   "source": [
    "r = df_nooutliners.corr(method=\"pearson\")[\"# num_pages\"][\"average_rating\"]\n",
    "r\n",
    "#Realmente no hay mucha correlación"
   ]
  },
  {
   "cell_type": "code",
   "execution_count": 126,
   "metadata": {},
   "outputs": [
    {
     "data": {
      "text/plain": [
       "bookID                34\n",
       "title                 34\n",
       "authors               34\n",
       "average_rating        34\n",
       "isbn                  34\n",
       "isbn13                34\n",
       "language_code         34\n",
       "# num_pages           34\n",
       "ratings_count         34\n",
       "text_reviews_count    34\n",
       "dtype: int64"
      ]
     },
     "execution_count": 126,
     "metadata": {},
     "output_type": "execute_result"
    }
   ],
   "source": [
    "df[df[\"average_rating\"] == 0].count()\n",
    "#Valores con Media de rating 0"
   ]
  },
  {
   "cell_type": "code",
   "execution_count": 127,
   "metadata": {},
   "outputs": [
    {
     "data": {
      "text/plain": [
       "bookID                114\n",
       "title                 114\n",
       "authors               114\n",
       "average_rating        114\n",
       "isbn                  114\n",
       "isbn13                114\n",
       "language_code         114\n",
       "# num_pages           114\n",
       "ratings_count         114\n",
       "text_reviews_count    114\n",
       "dtype: int64"
      ]
     },
     "execution_count": 127,
     "metadata": {},
     "output_type": "execute_result"
    }
   ],
   "source": [
    "df[df[\"ratings_count\"] == 0].count()\n",
    "# Valores que no tienen ratings"
   ]
  }
 ],
 "metadata": {
  "kernelspec": {
   "display_name": "Python 3",
   "language": "python",
   "name": "python3"
  },
  "language_info": {
   "codemirror_mode": {
    "name": "ipython",
    "version": 3
   },
   "file_extension": ".py",
   "mimetype": "text/x-python",
   "name": "python",
   "nbconvert_exporter": "python",
   "pygments_lexer": "ipython3",
   "version": "3.7.3"
  }
 },
 "nbformat": 4,
 "nbformat_minor": 4
}
