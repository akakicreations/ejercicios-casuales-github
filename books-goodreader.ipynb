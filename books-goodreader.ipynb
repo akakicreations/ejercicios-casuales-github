{
 "cells": [
  {
   "cell_type": "markdown",
   "metadata": {},
   "source": [
    "# Books Goodreader"
   ]
  },
  {
   "cell_type": "code",
   "execution_count": 10,
   "metadata": {},
   "outputs": [],
   "source": [
    "import pandas as pd\n",
    "import numpy as np\n",
    "import matplotlib.pyplot as plt"
   ]
  },
  {
   "cell_type": "code",
   "execution_count": 2,
   "metadata": {},
   "outputs": [
    {
     "name": "stdout",
     "output_type": "stream",
     "text": [
      "bookID,title,authors,average_rating,isbn,isbn13,language_code,# num_pages,ratings_count,text_reviews_count\n",
      "1,Harry Potter and the Half-Blood Prince (Harry Potter  #6),J.K. Rowling-Mary GrandPré,4.56,0439785960,9780439785969,eng,652,1944099,26249\n"
     ]
    }
   ],
   "source": [
    "! head -n 2 books-goodreader.csv"
   ]
  },
  {
   "cell_type": "code",
   "execution_count": 3,
   "metadata": {},
   "outputs": [
    {
     "name": "stdout",
     "output_type": "stream",
     "text": [
      "   13720 books-goodreader.csv\n",
      "10\n"
     ]
    }
   ],
   "source": [
    "! wc -l books-goodreader.csv #Tiene 13720 filas\n",
    "! awk -F, '{print NF; exit}' books-goodreader.csv #Para saber el número de columnas"
   ]
  },
  {
   "cell_type": "code",
   "execution_count": 4,
   "metadata": {},
   "outputs": [
    {
     "name": "stderr",
     "output_type": "stream",
     "text": [
      "b'Skipping line 4012: expected 10 fields, saw 11\\nSkipping line 5688: expected 10 fields, saw 11\\nSkipping line 7056: expected 10 fields, saw 11\\nSkipping line 10601: expected 10 fields, saw 11\\nSkipping line 10668: expected 10 fields, saw 11\\n'\n"
     ]
    }
   ],
   "source": [
    "df = pd.read_csv(\"books-goodreader.csv\", sep=',', error_bad_lines=False)"
   ]
  },
  {
   "cell_type": "code",
   "execution_count": 5,
   "metadata": {},
   "outputs": [
    {
     "name": "stdout",
     "output_type": "stream",
     "text": [
      "(13714, 10)\n"
     ]
    },
    {
     "data": {
      "text/html": [
       "<div>\n",
       "<style scoped>\n",
       "    .dataframe tbody tr th:only-of-type {\n",
       "        vertical-align: middle;\n",
       "    }\n",
       "\n",
       "    .dataframe tbody tr th {\n",
       "        vertical-align: top;\n",
       "    }\n",
       "\n",
       "    .dataframe thead th {\n",
       "        text-align: right;\n",
       "    }\n",
       "</style>\n",
       "<table border=\"1\" class=\"dataframe\">\n",
       "  <thead>\n",
       "    <tr style=\"text-align: right;\">\n",
       "      <th></th>\n",
       "      <th>bookID</th>\n",
       "      <th>average_rating</th>\n",
       "      <th>isbn13</th>\n",
       "      <th># num_pages</th>\n",
       "      <th>ratings_count</th>\n",
       "      <th>text_reviews_count</th>\n",
       "    </tr>\n",
       "  </thead>\n",
       "  <tbody>\n",
       "    <tr>\n",
       "      <th>count</th>\n",
       "      <td>13714.0</td>\n",
       "      <td>13714.0</td>\n",
       "      <td>1.371400e+04</td>\n",
       "      <td>13714.0</td>\n",
       "      <td>13714.0</td>\n",
       "      <td>13714.0</td>\n",
       "    </tr>\n",
       "    <tr>\n",
       "      <th>mean</th>\n",
       "      <td>22160.0</td>\n",
       "      <td>4.0</td>\n",
       "      <td>9.764017e+12</td>\n",
       "      <td>342.0</td>\n",
       "      <td>17765.0</td>\n",
       "      <td>534.0</td>\n",
       "    </tr>\n",
       "    <tr>\n",
       "      <th>std</th>\n",
       "      <td>13701.0</td>\n",
       "      <td>0.0</td>\n",
       "      <td>3.987679e+11</td>\n",
       "      <td>253.0</td>\n",
       "      <td>112957.0</td>\n",
       "      <td>2529.0</td>\n",
       "    </tr>\n",
       "    <tr>\n",
       "      <th>min</th>\n",
       "      <td>1.0</td>\n",
       "      <td>0.0</td>\n",
       "      <td>8.987060e+09</td>\n",
       "      <td>0.0</td>\n",
       "      <td>0.0</td>\n",
       "      <td>0.0</td>\n",
       "    </tr>\n",
       "    <tr>\n",
       "      <th>25%</th>\n",
       "      <td>10619.0</td>\n",
       "      <td>4.0</td>\n",
       "      <td>9.780345e+12</td>\n",
       "      <td>196.0</td>\n",
       "      <td>83.0</td>\n",
       "      <td>7.0</td>\n",
       "    </tr>\n",
       "    <tr>\n",
       "      <th>50%</th>\n",
       "      <td>21322.0</td>\n",
       "      <td>4.0</td>\n",
       "      <td>9.780613e+12</td>\n",
       "      <td>301.0</td>\n",
       "      <td>630.0</td>\n",
       "      <td>40.0</td>\n",
       "    </tr>\n",
       "    <tr>\n",
       "      <th>75%</th>\n",
       "      <td>33312.0</td>\n",
       "      <td>4.0</td>\n",
       "      <td>9.780940e+12</td>\n",
       "      <td>421.0</td>\n",
       "      <td>4742.0</td>\n",
       "      <td>222.0</td>\n",
       "    </tr>\n",
       "    <tr>\n",
       "      <th>max</th>\n",
       "      <td>47709.0</td>\n",
       "      <td>5.0</td>\n",
       "      <td>9.790008e+12</td>\n",
       "      <td>6576.0</td>\n",
       "      <td>5629932.0</td>\n",
       "      <td>93619.0</td>\n",
       "    </tr>\n",
       "  </tbody>\n",
       "</table>\n",
       "</div>"
      ],
      "text/plain": [
       "        bookID  average_rating        isbn13  # num_pages  ratings_count  \\\n",
       "count  13714.0         13714.0  1.371400e+04      13714.0        13714.0   \n",
       "mean   22160.0             4.0  9.764017e+12        342.0        17765.0   \n",
       "std    13701.0             0.0  3.987679e+11        253.0       112957.0   \n",
       "min        1.0             0.0  8.987060e+09          0.0            0.0   \n",
       "25%    10619.0             4.0  9.780345e+12        196.0           83.0   \n",
       "50%    21322.0             4.0  9.780613e+12        301.0          630.0   \n",
       "75%    33312.0             4.0  9.780940e+12        421.0         4742.0   \n",
       "max    47709.0             5.0  9.790008e+12       6576.0      5629932.0   \n",
       "\n",
       "       text_reviews_count  \n",
       "count             13714.0  \n",
       "mean                534.0  \n",
       "std                2529.0  \n",
       "min                   0.0  \n",
       "25%                   7.0  \n",
       "50%                  40.0  \n",
       "75%                 222.0  \n",
       "max               93619.0  "
      ]
     },
     "execution_count": 5,
     "metadata": {},
     "output_type": "execute_result"
    }
   ],
   "source": [
    "print(df.shape)\n",
    "df.describe().round(decimals=0)\n"
   ]
  },
  {
   "cell_type": "code",
   "execution_count": 6,
   "metadata": {},
   "outputs": [
    {
     "data": {
      "text/html": [
       "<div>\n",
       "<style scoped>\n",
       "    .dataframe tbody tr th:only-of-type {\n",
       "        vertical-align: middle;\n",
       "    }\n",
       "\n",
       "    .dataframe tbody tr th {\n",
       "        vertical-align: top;\n",
       "    }\n",
       "\n",
       "    .dataframe thead th {\n",
       "        text-align: right;\n",
       "    }\n",
       "</style>\n",
       "<table border=\"1\" class=\"dataframe\">\n",
       "  <thead>\n",
       "    <tr style=\"text-align: right;\">\n",
       "      <th></th>\n",
       "      <th>bookID</th>\n",
       "      <th>title</th>\n",
       "      <th>authors</th>\n",
       "      <th>average_rating</th>\n",
       "      <th>isbn</th>\n",
       "      <th>isbn13</th>\n",
       "      <th>language_code</th>\n",
       "      <th># num_pages</th>\n",
       "      <th>ratings_count</th>\n",
       "      <th>text_reviews_count</th>\n",
       "    </tr>\n",
       "  </thead>\n",
       "  <tbody>\n",
       "    <tr>\n",
       "      <th>1223</th>\n",
       "      <td>3661</td>\n",
       "      <td>Doctor Copernicus  (Revolutions Trilogy  #1)</td>\n",
       "      <td>John Banville</td>\n",
       "      <td>3.65</td>\n",
       "      <td>0679737995</td>\n",
       "      <td>9780679737995</td>\n",
       "      <td>eng</td>\n",
       "      <td>242</td>\n",
       "      <td>569</td>\n",
       "      <td>61</td>\n",
       "    </tr>\n",
       "    <tr>\n",
       "      <th>2489</th>\n",
       "      <td>7592</td>\n",
       "      <td>A Portrait of the Artist as a Young Man</td>\n",
       "      <td>James Joyce-Langdon Hammer</td>\n",
       "      <td>3.61</td>\n",
       "      <td>0451530152</td>\n",
       "      <td>9780451530158</td>\n",
       "      <td>eng</td>\n",
       "      <td>256</td>\n",
       "      <td>417</td>\n",
       "      <td>47</td>\n",
       "    </tr>\n",
       "    <tr>\n",
       "      <th>10575</th>\n",
       "      <td>34494</td>\n",
       "      <td>The Wee Free Men (Discworld  #30; Tiffany Achi...</td>\n",
       "      <td>Terry Pratchett</td>\n",
       "      <td>4.27</td>\n",
       "      <td>0060012382</td>\n",
       "      <td>9780060012380</td>\n",
       "      <td>eng</td>\n",
       "      <td>390</td>\n",
       "      <td>72982</td>\n",
       "      <td>2707</td>\n",
       "    </tr>\n",
       "  </tbody>\n",
       "</table>\n",
       "</div>"
      ],
      "text/plain": [
       "       bookID                                              title  \\\n",
       "1223     3661       Doctor Copernicus  (Revolutions Trilogy  #1)   \n",
       "2489     7592            A Portrait of the Artist as a Young Man   \n",
       "10575   34494  The Wee Free Men (Discworld  #30; Tiffany Achi...   \n",
       "\n",
       "                          authors  average_rating        isbn         isbn13  \\\n",
       "1223                John Banville            3.65  0679737995  9780679737995   \n",
       "2489   James Joyce-Langdon Hammer            3.61  0451530152  9780451530158   \n",
       "10575             Terry Pratchett            4.27  0060012382  9780060012380   \n",
       "\n",
       "      language_code  # num_pages  ratings_count  text_reviews_count  \n",
       "1223            eng          242            569                  61  \n",
       "2489            eng          256            417                  47  \n",
       "10575           eng          390          72982                2707  "
      ]
     },
     "execution_count": 6,
     "metadata": {},
     "output_type": "execute_result"
    }
   ],
   "source": [
    "df.sample(3)"
   ]
  },
  {
   "cell_type": "code",
   "execution_count": 7,
   "metadata": {},
   "outputs": [
    {
     "data": {
      "text/plain": [
       "17765.397258276214"
      ]
     },
     "execution_count": 7,
     "metadata": {},
     "output_type": "execute_result"
    }
   ],
   "source": [
    "np.mean(df['ratings_count'])"
   ]
  },
  {
   "cell_type": "code",
   "execution_count": 8,
   "metadata": {},
   "outputs": [
    {
     "data": {
      "text/plain": [
       "bookID                419\n",
       "title                 419\n",
       "authors               419\n",
       "average_rating        419\n",
       "isbn                  419\n",
       "isbn13                419\n",
       "language_code         419\n",
       "# num_pages           419\n",
       "ratings_count         419\n",
       "text_reviews_count    419\n",
       "dtype: int64"
      ]
     },
     "execution_count": 8,
     "metadata": {},
     "output_type": "execute_result"
    }
   ],
   "source": [
    "df[df['language_code'] == 'spa'].count()"
   ]
  },
  {
   "cell_type": "code",
   "execution_count": 9,
   "metadata": {},
   "outputs": [
    {
     "data": {
      "text/plain": [
       "bookID                419\n",
       "title                 419\n",
       "authors               419\n",
       "average_rating        419\n",
       "isbn                  419\n",
       "isbn13                419\n",
       "language_code         419\n",
       "# num_pages           419\n",
       "ratings_count         419\n",
       "text_reviews_count    419\n",
       "dtype: int64"
      ]
     },
     "execution_count": 9,
     "metadata": {},
     "output_type": "execute_result"
    }
   ],
   "source": [
    "df[df['language_code'] == 'spa'].count()"
   ]
  },
  {
   "cell_type": "code",
   "execution_count": 11,
   "metadata": {},
   "outputs": [
    {
     "data": {
      "text/plain": [
       "<matplotlib.axes._subplots.AxesSubplot at 0x115ff0358>"
      ]
     },
     "execution_count": 11,
     "metadata": {},
     "output_type": "execute_result"
    },
    {
     "data": {
      "image/png": "[encoded data removed]",
      "text/plain": [
       "<Figure size 432x288 with 1 Axes>"
      ]
     },
     "metadata": {
      "needs_background": "light"
     },
     "output_type": "display_data"
    }
   ],
   "source": [
    "df.plot()"
   ]
  },
  {
   "cell_type": "code",
   "execution_count": null,
   "metadata": {},
   "outputs": [],
   "source": []
  }
 ],
 "metadata": {
  "kernelspec": {
   "display_name": "Python 3",
   "language": "python",
   "name": "python3"
  },
  "language_info": {
   "codemirror_mode": {
    "name": "ipython",
    "version": 3
   },
   "file_extension": ".py",
   "mimetype": "text/x-python",
   "name": "python",
   "nbconvert_exporter": "python",
   "pygments_lexer": "ipython3",
   "version": "3.7.3"
  }
 },
 "nbformat": 4,
 "nbformat_minor": 4
}
