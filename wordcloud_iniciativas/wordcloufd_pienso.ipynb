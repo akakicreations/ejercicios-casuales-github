{
 "cells": [
  {
   "cell_type": "code",
   "execution_count": 1,
   "metadata": {},
   "outputs": [
    {
     "output_type": "stream",
     "name": "stdout",
     "text": "Wordcloud está instalado e importado!\n"
    }
   ],
   "source": [
    "import os\n",
    "import numpy as np\n",
    "import pandas as pd\n",
    "import matplotlib.pyplot as plt\n",
    "from wordcloud import WordCloud, STOPWORDS\n",
    "print ('Wordcloud está instalado e importado!')"
   ]
  },
  {
   "cell_type": "code",
   "execution_count": 7,
   "metadata": {},
   "outputs": [
    {
     "output_type": "stream",
     "name": "stdout",
     "text": "Palabras totales que hay:  295760\n"
    }
   ],
   "source": [
    "# Obtener listado de palabras\n",
    "data = pd.read_excel(\"Repo iniciativas - COVID19-04-05-20.xlsx\" )\n",
    "data.dropna(subset=['input_title'], inplace=True)\n",
    "data_together = data.loc[:, ['input_title', 'input_content']]\n",
    "columna1 = data_together['input_title'].str.split()\n",
    "columna2 = data_together['input_content'].str.split()\n",
    "todos = pd.concat([columna1, columna2])\n",
    "data_list = str(todos.values.tolist())\n",
    "print('Palabras totales que hay: ', len(data_list))"
   ]
  },
  {
   "cell_type": "code",
   "execution_count": 8,
   "metadata": {},
   "outputs": [
    {
     "output_type": "stream",
     "name": "stderr",
     "text": "[nltk_data] Downloading package stopwords to\n[nltk_data]     /Users/victormac/nltk_data...\n[nltk_data]   Package stopwords is already up-to-date!\n"
    },
    {
     "output_type": "execute_result",
     "data": {
      "text/plain": "['de', 'la', 'que', 'el', 'en', 'y', 'a', 'los', 'del', 'se']"
     },
     "metadata": {},
     "execution_count": 8
    }
   ],
   "source": [
    "# Para coger los stopwords en español\n",
    "import nltk\n",
    "nltk.download('stopwords')\n",
    "sw = nltk.corpus.stopwords.words('spanish')\n",
    "sw[:10]"
   ]
  },
  {
   "cell_type": "code",
   "execution_count": 9,
   "metadata": {},
   "outputs": [
    {
     "output_type": "execute_result",
     "data": {
      "text/plain": "['hookipa',\n 'sesiones',\n 'de',\n 'coaching',\n 'gratis',\n 'para',\n 'mayores',\n 'squareventures']"
     },
     "metadata": {},
     "execution_count": 9
    }
   ],
   "source": [
    "#TOKENIZAR, es decir separar por palabras\n",
    "from nltk.tokenize import RegexpTokenizer\n",
    "# Create tokenizer\n",
    "tokenizer = RegexpTokenizer('\\w+')\n",
    "# Create tokens\n",
    "tokens = tokenizer.tokenize(data_list)\n",
    "len(tokens)\n",
    "tokens[:30]\n",
    "\n",
    "# Ponerlo todo en minúsculas\n",
    "words = []\n",
    "# Loop through list tokens and make lower case\n",
    "for word in tokens:\n",
    "    words.append(word.lower())\n",
    "# Print several items from list as sanity check\n",
    "words[:8]"
   ]
  },
  {
   "cell_type": "code",
   "execution_count": 12,
   "metadata": {},
   "outputs": [
    {
     "output_type": "stream",
     "name": "stdout",
     "text": "Palabras totales que quedan: 17601\n"
    },
    {
     "output_type": "execute_result",
     "data": {
      "text/plain": "list"
     },
     "metadata": {},
     "execution_count": 12
    }
   ],
   "source": [
    "# Para filtrar y quedarnos SOLO con las palabras sin stopwords\n",
    "words_ns = []\n",
    "# Add to words_ns all words that are in words but not in sw\n",
    "for word in words:\n",
    "    if word not in sw:\n",
    "        words_ns.append(word)\n",
    "\n",
    "print('Palabras totales que quedan:',len(words_ns))\n",
    "words_ns[:8]\n",
    "type(words_ns)"
   ]
  },
  {
   "cell_type": "code",
   "execution_count": 14,
   "metadata": {},
   "outputs": [
    {
     "output_type": "execute_result",
     "data": {
      "text/plain": "         Palabras  Frecuencia\n0            casa         171\n1        personas         158\n2      iniciativa         128\n3      plataforma         115\n4          través         113\n...           ...         ...\n5131       sesame           1\n5132        adult           1\n5133         tour           1\n5134  responderán           1\n5135      hombres           1\n\n[5136 rows x 2 columns]",
      "text/html": "<div>\n<style scoped>\n    .dataframe tbody tr th:only-of-type {\n        vertical-align: middle;\n    }\n\n    .dataframe tbody tr th {\n        vertical-align: top;\n    }\n\n    .dataframe thead th {\n        text-align: right;\n    }\n</style>\n<table border=\"1\" class=\"dataframe\">\n  <thead>\n    <tr style=\"text-align: right;\">\n      <th></th>\n      <th>Palabras</th>\n      <th>Frecuencia</th>\n    </tr>\n  </thead>\n  <tbody>\n    <tr>\n      <th>0</th>\n      <td>casa</td>\n      <td>171</td>\n    </tr>\n    <tr>\n      <th>1</th>\n      <td>personas</td>\n      <td>158</td>\n    </tr>\n    <tr>\n      <th>2</th>\n      <td>iniciativa</td>\n      <td>128</td>\n    </tr>\n    <tr>\n      <th>3</th>\n      <td>plataforma</td>\n      <td>115</td>\n    </tr>\n    <tr>\n      <th>4</th>\n      <td>través</td>\n      <td>113</td>\n    </tr>\n    <tr>\n      <th>...</th>\n      <td>...</td>\n      <td>...</td>\n    </tr>\n    <tr>\n      <th>5131</th>\n      <td>sesame</td>\n      <td>1</td>\n    </tr>\n    <tr>\n      <th>5132</th>\n      <td>adult</td>\n      <td>1</td>\n    </tr>\n    <tr>\n      <th>5133</th>\n      <td>tour</td>\n      <td>1</td>\n    </tr>\n    <tr>\n      <th>5134</th>\n      <td>responderán</td>\n      <td>1</td>\n    </tr>\n    <tr>\n      <th>5135</th>\n      <td>hombres</td>\n      <td>1</td>\n    </tr>\n  </tbody>\n</table>\n<p>5136 rows × 2 columns</p>\n</div>"
     },
     "metadata": {},
     "execution_count": 14
    }
   ],
   "source": [
    "# Vamos a crear un dataframe apra exportar\n",
    "dataframe_words = pd.DataFrame(words_ns, columns=[\"colummn\"])\n",
    "dataframe_words_frequency = pd.value_counts(dataframe_words.colummn).to_frame().reset_index()\n",
    "dataframe_words_frequency\n",
    "dataframe_words_frequency.columns = ['Palabras','Frecuencia']\n",
    "\n",
    "#Exportar\n",
    "dataframe_words_frequency.to_csv('dataframe_words_frequency.csv', index=False)\n",
    "dataframe_words_frequency"
   ]
  },
  {
   "cell_type": "code",
   "execution_count": null,
   "metadata": {},
   "outputs": [],
   "source": []
  }
 ],
 "metadata": {
  "language_info": {
   "name": "python",
   "codemirror_mode": {
    "name": "ipython",
    "version": 3
   },
   "version": "3.7.3-final"
  },
  "orig_nbformat": 2,
  "file_extension": ".py",
  "mimetype": "text/x-python",
  "name": "python",
  "npconvert_exporter": "python",
  "pygments_lexer": "ipython3",
  "version": 3,
  "kernelspec": {
   "name": "python3",
   "display_name": "Python 3"
  }
 },
 "nbformat": 4,
 "nbformat_minor": 2
}